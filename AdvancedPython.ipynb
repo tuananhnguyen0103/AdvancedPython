{
 "cells": [
  {
   "cell_type": "code",
   "execution_count": 4,
   "id": "f33f57f8",
   "metadata": {},
   "outputs": [
    {
     "name": "stdout",
     "output_type": "stream",
     "text": [
      "Xin chào tôi là sinh viên khoa học máy tính\n",
      "Xin chào tôi là sinh viên khoa học máy tính\n",
      "Xin chào tôi là sinh viên khoa học máy tính\n",
      "Xin chào tôi là sinh viên khoa học máy tính\n",
      "Xin chào tôi là sinh viên khoa học máy tính\n",
      "Xin chào tôi là sinh viên khoa học máy tính\n",
      "Xin chào tôi là sinh viên khoa học máy tính\n",
      "Xin chào tôi là sinh viên khoa học máy tính\n",
      "Xin chào tôi là sinh viên khoa học máy tính\n",
      "Xin chào tôi là sinh viên khoa học máy tính\n",
      "Xin chào tôi là sinh viên khoa học máy tính\n",
      "Xin chào tôi là sinh viên khoa học máy tính\n",
      "Xin chào tôi là sinh viên khoa học máy tính\n",
      "Xin chào tôi là sinh viên khoa học máy tính\n",
      "Xin chào tôi là sinh viên khoa học máy tính\n",
      "Xin chào tôi là sinh viên khoa học máy tính\n",
      "Xin chào tôi là sinh viên khoa học máy tính\n",
      "Xin chào tôi là sinh viên khoa học máy tính\n",
      "Xin chào tôi là sinh viên khoa học máy tính\n",
      "Xin chào tôi là sinh viên khoa học máy tính\n",
      "Xin chào tôi là sinh viên khoa học máy tính\n",
      "Xin chào tôi là sinh viên khoa học máy tính\n",
      "Xin chào tôi là sinh viên khoa học máy tính\n",
      "Xin chào tôi là sinh viên khoa học máy tính\n",
      "Xin chào tôi là sinh viên khoa học máy tính\n",
      "Xin chào tôi là sinh viên khoa học máy tính\n",
      "Xin chào tôi là sinh viên khoa học máy tính\n",
      "Xin chào tôi là sinh viên khoa học máy tính\n",
      "Xin chào tôi là sinh viên khoa học máy tính\n",
      "Xin chào tôi là sinh viên khoa học máy tính\n",
      "Xin chào tôi là sinh viên khoa học máy tính\n",
      "Xin chào tôi là sinh viên khoa học máy tính\n",
      "Xin chào tôi là sinh viên khoa học máy tính\n",
      "Xin chào tôi là sinh viên khoa học máy tính\n",
      "Xin chào tôi là sinh viên khoa học máy tính\n",
      "Xin chào tôi là sinh viên khoa học máy tính\n",
      "Xin chào tôi là sinh viên khoa học máy tính\n",
      "Xin chào tôi là sinh viên khoa học máy tính\n",
      "Xin chào tôi là sinh viên khoa học máy tính\n",
      "Xin chào tôi là sinh viên khoa học máy tính\n",
      "Xin chào tôi là sinh viên khoa học máy tính\n",
      "Xin chào tôi là sinh viên khoa học máy tính\n",
      "Xin chào tôi là sinh viên khoa học máy tính\n",
      "Xin chào tôi là sinh viên khoa học máy tính\n",
      "Xin chào tôi là sinh viên khoa học máy tính\n",
      "Xin chào tôi là sinh viên khoa học máy tính\n",
      "Xin chào tôi là sinh viên khoa học máy tính\n",
      "Xin chào tôi là sinh viên khoa học máy tính\n",
      "Xin chào tôi là sinh viên khoa học máy tính\n",
      "Xin chào tôi là sinh viên khoa học máy tính\n",
      "Xin chào tôi là sinh viên khoa học máy tính\n",
      "Xin chào tôi là sinh viên khoa học máy tính\n",
      "Xin chào tôi là sinh viên khoa học máy tính\n",
      "Xin chào tôi là sinh viên khoa học máy tính\n",
      "Xin chào tôi là sinh viên khoa học máy tính\n",
      "Xin chào tôi là sinh viên khoa học máy tính\n",
      "Xin chào tôi là sinh viên khoa học máy tính\n",
      "Xin chào tôi là sinh viên khoa học máy tính\n",
      "Xin chào tôi là sinh viên khoa học máy tính\n",
      "Xin chào tôi là sinh viên khoa học máy tính\n",
      "Xin chào tôi là sinh viên khoa học máy tính\n",
      "Xin chào tôi là sinh viên khoa học máy tính\n",
      "Xin chào tôi là sinh viên khoa học máy tính\n",
      "Xin chào tôi là sinh viên khoa học máy tính\n",
      "Xin chào tôi là sinh viên khoa học máy tính\n",
      "Xin chào tôi là sinh viên khoa học máy tính\n",
      "Xin chào tôi là sinh viên khoa học máy tính\n",
      "Xin chào tôi là sinh viên khoa học máy tính\n",
      "Xin chào tôi là sinh viên khoa học máy tính\n",
      "Xin chào tôi là sinh viên khoa học máy tính\n",
      "Xin chào tôi là sinh viên khoa học máy tính\n",
      "Xin chào tôi là sinh viên khoa học máy tính\n",
      "Xin chào tôi là sinh viên khoa học máy tính\n",
      "Xin chào tôi là sinh viên khoa học máy tính\n",
      "Xin chào tôi là sinh viên khoa học máy tính\n",
      "Xin chào tôi là sinh viên khoa học máy tính\n",
      "Xin chào tôi là sinh viên khoa học máy tính\n",
      "Xin chào tôi là sinh viên khoa học máy tính\n",
      "Xin chào tôi là sinh viên khoa học máy tính\n",
      "Xin chào tôi là sinh viên khoa học máy tính\n",
      "Xin chào tôi là sinh viên khoa học máy tính\n",
      "Xin chào tôi là sinh viên khoa học máy tính\n",
      "Xin chào tôi là sinh viên khoa học máy tính\n",
      "Xin chào tôi là sinh viên khoa học máy tính\n",
      "Xin chào tôi là sinh viên khoa học máy tính\n",
      "Xin chào tôi là sinh viên khoa học máy tính\n",
      "Xin chào tôi là sinh viên khoa học máy tính\n",
      "Xin chào tôi là sinh viên khoa học máy tính\n",
      "Xin chào tôi là sinh viên khoa học máy tính\n",
      "Xin chào tôi là sinh viên khoa học máy tính\n",
      "Xin chào tôi là sinh viên khoa học máy tính\n",
      "Xin chào tôi là sinh viên khoa học máy tính\n",
      "Xin chào tôi là sinh viên khoa học máy tính\n",
      "Xin chào tôi là sinh viên khoa học máy tính\n",
      "Xin chào tôi là sinh viên khoa học máy tính\n",
      "Xin chào tôi là sinh viên khoa học máy tính\n",
      "Xin chào tôi là sinh viên khoa học máy tính\n",
      "Xin chào tôi là sinh viên khoa học máy tính\n",
      "Xin chào tôi là sinh viên khoa học máy tính\n"
     ]
    }
   ],
   "source": [
    "%%timeit?\n",
    "for i in range(1,100):\n",
    "    print(\"Xin chào tôi là sinh viên khoa học máy tính\")"
   ]
  },
  {
   "cell_type": "code",
   "execution_count": null,
   "id": "34925a8d",
   "metadata": {},
   "outputs": [],
   "source": []
  },
  {
   "cell_type": "code",
   "execution_count": 5,
   "id": "40091596",
   "metadata": {},
   "outputs": [],
   "source": [
    "print?"
   ]
  },
  {
   "cell_type": "code",
   "execution_count": 6,
   "id": "e4dc46ee",
   "metadata": {},
   "outputs": [],
   "source": [
    "%time??"
   ]
  },
  {
   "cell_type": "code",
   "execution_count": 8,
   "id": "4988bac4",
   "metadata": {},
   "outputs": [],
   "source": [
    "%timeit"
   ]
  },
  {
   "cell_type": "code",
   "execution_count": 11,
   "id": "1a346b75",
   "metadata": {},
   "outputs": [
    {
     "name": "stdout",
     "output_type": "stream",
     "text": [
      "0.01748329999827547\n"
     ]
    }
   ],
   "source": [
    "# testing the timeit()\n",
    "\n",
    "import timeit\n",
    "\n",
    "import_module = \"import random\"\n",
    "\n",
    "testingcode = \"\"\n",
    "\n",
    "def test(): \n",
    "\n",
    "    return random.randint(10, 50)\n",
    "\n",
    "print(timeit.timeit(stmt=testingcode, setup=import_module))\n"
   ]
  },
  {
   "cell_type": "code",
   "execution_count": 13,
   "id": "4d1b29bf",
   "metadata": {},
   "outputs": [
    {
     "data": {
      "text/plain": [
       "14"
      ]
     },
     "execution_count": 13,
     "metadata": {},
     "output_type": "execute_result"
    }
   ],
   "source": [
    "a=14\n",
    "a"
   ]
  },
  {
   "cell_type": "code",
   "execution_count": 14,
   "id": "58b0b86a",
   "metadata": {},
   "outputs": [
    {
     "data": {
      "text/plain": [
       "2"
      ]
     },
     "execution_count": 14,
     "metadata": {},
     "output_type": "execute_result"
    }
   ],
   "source": [
    "b=2\n",
    "b"
   ]
  },
  {
   "cell_type": "code",
   "execution_count": 16,
   "id": "d48c43b9",
   "metadata": {},
   "outputs": [
    {
     "name": "stdout",
     "output_type": "stream",
     "text": [
      "2+14\n"
     ]
    }
   ],
   "source": [
    "print(str(_)+\"+\"+str(__))"
   ]
  },
  {
   "cell_type": "markdown",
   "id": "c737cbb9",
   "metadata": {},
   "source": [
    "_13"
   ]
  },
  {
   "cell_type": "code",
   "execution_count": 17,
   "id": "62d9cc98",
   "metadata": {},
   "outputs": [
    {
     "data": {
      "text/plain": [
       "14"
      ]
     },
     "execution_count": 17,
     "metadata": {},
     "output_type": "execute_result"
    }
   ],
   "source": [
    "a=14\n",
    "a"
   ]
  },
  {
   "cell_type": "code",
   "execution_count": 18,
   "id": "f862f7a4",
   "metadata": {},
   "outputs": [
    {
     "data": {
      "text/plain": [
       "14"
      ]
     },
     "execution_count": 18,
     "metadata": {},
     "output_type": "execute_result"
    }
   ],
   "source": [
    "_17"
   ]
  },
  {
   "cell_type": "code",
   "execution_count": 19,
   "id": "80dcb6cc",
   "metadata": {},
   "outputs": [
    {
     "name": "stdout",
     "output_type": "stream",
     "text": [
      "%timeit print(\"Xin chào tôi là sinh viên khoa học máy tính\")\n",
      "%timeit \n",
      "for i in range(1,100):\n",
      "    print(\"Xin chào tôi là sinh viên khoa học máy tính\")\n",
      "%%timeit \n",
      "for i in range(1,100):\n",
      "    print(\"Xin chào tôi là sinh viên khoa học máy tính\")\n",
      "%%timeit?\n",
      "for i in range(1,100):\n",
      "    print(\"Xin chào tôi là sinh viên khoa học máy tính\")\n",
      "print?\n",
      "%time??\n",
      "%timeit\n",
      "%timeit\n",
      "# testing the timeit()\n",
      "\n",
      "import timeit\n",
      "\n",
      "import_module = \"import random\"\n",
      "\n",
      "testingcode = ''' \n",
      "\n",
      "def test(): \n",
      "\n",
      "    return random.randint(10, 50)\n",
      "\n",
      "print(timeit.timeit(stmt=testingcode, setup=import_module))\n",
      "# testing the timeit()\n",
      "\n",
      "import timeit\n",
      "\n",
      "import_module = \"import random\"\n",
      "\n",
      "testingcode = ''' \n",
      "\n",
      "def test(): \n",
      "\n",
      "    return random.randint(10, 50)\n",
      "\n",
      "print(timeit.timeit(stmt=testingcode, setup=import_module))\n",
      "'''\n",
      "# testing the timeit()\n",
      "\n",
      "import timeit\n",
      "\n",
      "import_module = \"import random\"\n",
      "\n",
      "testingcode = \"\"\n",
      "\n",
      "def test(): \n",
      "\n",
      "    return random.randint(10, 50)\n",
      "\n",
      "print(timeit.timeit(stmt=testingcode, setup=import_module))\n",
      "a=14\n",
      "a=14\n",
      "a\n",
      "b=2\n",
      "b\n",
      "print(str(_)+\"+\"+str(_))\n",
      "print(str(_)+\"+\"+str(__))\n",
      "a=14\n",
      "a\n",
      "_17\n",
      "%hist\n"
     ]
    }
   ],
   "source": [
    "%hist"
   ]
  },
  {
   "cell_type": "code",
   "execution_count": 20,
   "id": "793cd673",
   "metadata": {},
   "outputs": [
    {
     "ename": "Exception",
     "evalue": "Chương trình bị lỗi",
     "output_type": "error",
     "traceback": [
      "\u001b[1;31m---------------------------------------------------------------------------\u001b[0m",
      "\u001b[1;31mException\u001b[0m                                 Traceback (most recent call last)",
      "Cell \u001b[1;32mIn[20], line 2\u001b[0m\n\u001b[0;32m      1\u001b[0m a \u001b[38;5;241m=\u001b[39m \u001b[38;5;167;01mException\u001b[39;00m(\u001b[38;5;124m\"\u001b[39m\u001b[38;5;124mChương trình bị lỗi\u001b[39m\u001b[38;5;124m\"\u001b[39m)\n\u001b[1;32m----> 2\u001b[0m \u001b[38;5;28;01mraise\u001b[39;00m a\n",
      "\u001b[1;31mException\u001b[0m: Chương trình bị lỗi"
     ]
    }
   ],
   "source": [
    "a = Exception(\"Chương trình bị lỗi\")\n",
    "raise a"
   ]
  },
  {
   "cell_type": "code",
   "execution_count": 17,
   "id": "0d7481e0",
   "metadata": {},
   "outputs": [
    {
     "name": "stdout",
     "output_type": "stream",
     "text": [
      "7\n",
      "7\n",
      "Hue: Đạt\n",
      "Thuong: Đạt\n",
      "Huy: Đạt\n",
      "Hung: Trượt với điểm là:  4\n",
      "Duong: Đạt\n",
      "Dao: Đạt\n",
      "Hung: Trượt với điểm là:  2\n"
     ]
    }
   ],
   "source": [
    "students = [\"Hue\",\"Thuong\",\"Huy\",\"Hung\",\"Duong\",\"Dao\",\"Hung\"]\n",
    "finals = [8,9,19,4,5,8,2]\n",
    "print(len(students))\n",
    "print(len(finals))\n",
    "for i in range(len(students)):\n",
    "    if(finals[i]<5):\n",
    "        print(f\"{students[i]}: Trượt với điểm là: \",finals[i])\n",
    "    else:\n",
    "        print(f\"{students[i]}: Đạt\")"
   ]
  },
  {
   "cell_type": "code",
   "execution_count": 8,
   "id": "5c535549",
   "metadata": {},
   "outputs": [
    {
     "name": "stdout",
     "output_type": "stream",
     "text": [
      "Tôi tên là Tuan Anh 18 1980\n"
     ]
    }
   ],
   "source": [
    "\n",
    "name = \"Tuan Anh\"\n",
    "age = 18\n",
    "year= 1980\n",
    "string_test = \"Tôi tên là {0} {1} {2}\".format(name,age,year)\n",
    "print(string_test)"
   ]
  }
 ],
 "metadata": {
  "kernelspec": {
   "display_name": "Python 3.10.11 ('venv_advancedpython': venv)",
   "language": "python",
   "name": "python3"
  },
  "language_info": {
   "codemirror_mode": {
    "name": "ipython",
    "version": 3
   },
   "file_extension": ".py",
   "mimetype": "text/x-python",
   "name": "python",
   "nbconvert_exporter": "python",
   "pygments_lexer": "ipython3",
   "version": "3.10.11"
  },
  "vscode": {
   "interpreter": {
    "hash": "43fe7cead855e5855b2fcfa98b08a1f435e16ceb9027b4dfdb6b59c88a642372"
   }
  }
 },
 "nbformat": 4,
 "nbformat_minor": 5
}
